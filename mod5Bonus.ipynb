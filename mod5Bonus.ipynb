{
 "cells": [
  {
   "cell_type": "code",
   "execution_count": 1,
   "id": "2a07538b-cacc-4279-a497-7beab240ce6d",
   "metadata": {},
   "outputs": [
    {
     "name": "stdout",
     "output_type": "stream",
     "text": [
      "Boston     True\n",
      "Miami     False\n",
      "dtype: bool\n",
      "0    Boston, MA 02215\n",
      "1     Miami, FL 33101\n",
      "dtype: object\n",
      "0    True\n",
      "1    True\n",
      "dtype: bool\n",
      "0    False\n",
      "1    False\n",
      "dtype: bool\n",
      "         Name             Email       Phone\n",
      "0  Mike Green  demo1@deitel.com  5555555555\n",
      "1   Sue Brown  demo2@deitel.com  5555551234\n",
      "0    555-555-5555\n",
      "1    555-555-1234\n",
      "Name: Phone, dtype: object\n",
      "         Name             Email         Phone\n",
      "0  Mike Green  demo1@deitel.com  555-555-5555\n",
      "1   Sue Brown  demo2@deitel.com  555-555-1234\n"
     ]
    }
   ],
   "source": [
    "# Module 5 Bonus\n",
    "\n",
    "# Kyle Hudson\n",
    "\n",
    "\n",
    "# Create a pandas Series from a dictionary (key-value pairs) of City-Zip pairs as shown. Use str.match() and regular expressions \n",
    "# to check if a zipcode is valid (exactly 5 digits)\n",
    "\n",
    "\n",
    "import pandas as pd\n",
    "\n",
    "zips = pd.Series({'Boston': '02215', 'Miami': '3310'})\n",
    "\n",
    "print(zips.str.match(r'\\d{5}'))\n",
    "\n",
    "# Create a pandas Series from an array of City names as shown. Use str.contains() and regular expressions to see if each entry includes \n",
    "# letters and str.match() to see if it exactly matches the defined pattern.\n",
    "\n",
    "cities = pd.Series(['Boston, MA 02215', 'Miami, FL 33101'])\n",
    "\n",
    "print(cities)\n",
    "\n",
    "print(cities.str.contains(r' [A-Z]{2} '))\n",
    "print(cities.str.match(r' [A-Z]{2} '))\n",
    "\n",
    "# Create a pandas DataFrame named contactsdf from a two-dimensional array. Reformat the phone numbers to include common dashes. \n",
    "\n",
    "contacts = [['Mike Green', 'demo1@deitel.com', '5555555555'], ['Sue Brown', 'demo2@deitel.com', '5555551234']]\n",
    "\n",
    "contactsdf = pd.DataFrame(contacts, columns=['Name', 'Email', 'Phone'])\n",
    "\n",
    "print(contactsdf)\n",
    "\n",
    "import re\n",
    "\n",
    "def get_formatted_phone(value):\n",
    "    result = re.fullmatch(r'(\\d{3})(\\d{3})(\\d{4})', value)\n",
    "    return '-'.join(result.groups()) if result else value\n",
    "\n",
    "formatted_phone = contactsdf['Phone'].map(get_formatted_phone)\n",
    "\n",
    "print(formatted_phone)\n",
    "\n",
    "contactsdf['Phone'] = formatted_phone\n",
    "\n",
    "print(contactsdf)"
   ]
  }
 ],
 "metadata": {
  "kernelspec": {
   "display_name": "Python 3 (ipykernel)",
   "language": "python",
   "name": "python3"
  },
  "language_info": {
   "codemirror_mode": {
    "name": "ipython",
    "version": 3
   },
   "file_extension": ".py",
   "mimetype": "text/x-python",
   "name": "python",
   "nbconvert_exporter": "python",
   "pygments_lexer": "ipython3",
   "version": "3.8.12"
  }
 },
 "nbformat": 4,
 "nbformat_minor": 5
}
