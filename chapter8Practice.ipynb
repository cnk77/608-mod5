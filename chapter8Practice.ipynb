{
 "cells": [
  {
   "cell_type": "code",
   "execution_count": 9,
   "id": "4b127e83-febc-412b-bcc4-989913ab7272",
   "metadata": {},
   "outputs": [
    {
     "name": "stdout",
     "output_type": "stream",
     "text": [
      "17.49\n",
      "10\n",
      "A a\n",
      "hello 7\n",
      "10000000000000000000000000.000\n",
      "1.000e+25\n"
     ]
    }
   ],
   "source": [
    "# 8.2 Formatting Strings\n",
    "\n",
    "# 8.2.1 Presentation Types\n",
    "\n",
    "print(f'{17.489:.2f}')\n",
    "\n",
    "# Integers - d presentation type formats integer values as strings\n",
    "\n",
    "print(f'{10:d}')\n",
    "\n",
    "# Characters - c presentation type formats an integer character code as the corresponding character\n",
    "\n",
    "print(f'{65:c} {97:c}')\n",
    "\n",
    "# Strings - s presentation\n",
    "\n",
    "print(f'{\"hello\":s} {7}')\n",
    "\n",
    "# Floating-Point and Decimal Values - e = Exponential notation\n",
    "\n",
    "from decimal import Decimal\n",
    "\n",
    "print(f'{Decimal(\"10000000000000000000000000.0\"):.3f}')\n",
    "print(f'{Decimal(\"10000000000000000000000000.0\"):.3e}')"
   ]
  },
  {
   "cell_type": "code",
   "execution_count": 10,
   "id": "ef61e332-28b7-4cbc-a4e1-25122c641a0e",
   "metadata": {},
   "outputs": [
    {
     "name": "stdout",
     "output_type": "stream",
     "text": [
      ":-)\n"
     ]
    }
   ],
   "source": [
    "# 8.2.1 Self-Check 3: Use the type specifier c to display the characters that correspond to the character codes 58, 45 and 41.\n",
    "\n",
    "print(f'{58:c}{45:c}{41:c}')"
   ]
  },
  {
   "cell_type": "code",
   "execution_count": 19,
   "id": "2a54e59f-7b6c-41bf-b19c-9006bb977d99",
   "metadata": {},
   "outputs": [
    {
     "name": "stdout",
     "output_type": "stream",
     "text": [
      "[        27]\n",
      "[  3.500000]\n",
      "[hello     ]\n",
      "[27             ]\n",
      "[3.500000       ]\n",
      "[          hello]\n",
      "[  27   ]\n",
      "[  3.5  ]\n",
      "[ hello ]\n"
     ]
    }
   ],
   "source": [
    "# 8.2.2 Field Widths and Alignment\n",
    "\n",
    "print(f'[{27:10d}]')\n",
    "print(f'[{3.5:10f}]')\n",
    "print(f'[{\"hello\":10}]')\n",
    "\n",
    "# Explicitly Specifying Left and Right Alignment in a Field\n",
    "\n",
    "print(f'[{27:<15d}]')\n",
    "print(f'[{3.5:<15f}]')\n",
    "print(f'[{\"hello\":>15}]')\n",
    "\n",
    "# Centering a Value in a Field\n",
    "\n",
    "print(f'[{27:^7d}]')\n",
    "print(f'[{3.5:^7.1f}]')\n",
    "print(f'[{\"hello\":^7}]')"
   ]
  },
  {
   "cell_type": "code",
   "execution_count": 20,
   "id": "277e1ee4-6bb7-477c-84cb-b186fc1bfcf0",
   "metadata": {},
   "outputs": [
    {
     "name": "stdout",
     "output_type": "stream",
     "text": [
      "[    Amanda]\n",
      "[  Amanda  ]\n",
      "[Amanda    ]\n"
     ]
    }
   ],
   "source": [
    "# 8.2.2 Self-Check 2: Display on separate lines the name 'Amanda' right-, center- and left-aligned in a field of 10 characters. \n",
    "# Enclose each result in brackets so you can see the alignment results more clearly.\n",
    "\n",
    "print(f'[{\"Amanda\":>10}]')\n",
    "print(f'[{\"Amanda\":^10}]')\n",
    "print(f'[{\"Amanda\":<10}]')"
   ]
  },
  {
   "cell_type": "code",
   "execution_count": 25,
   "id": "7b952aae-89f7-49ca-90f7-0688e8702766",
   "metadata": {},
   "outputs": [
    {
     "name": "stdout",
     "output_type": "stream",
     "text": [
      "[       +27]\n",
      "[+000000027]\n",
      "27\n",
      " 27\n",
      "-27\n",
      "12,345,678\n",
      "123,456.78\n"
     ]
    }
   ],
   "source": [
    "# 8.2.3 Numeric Formating\n",
    "\n",
    "# Formatting Postitive Numbers with Signs\n",
    "\n",
    "print(f'[{27:+10d}]')\n",
    "print(f'[{27:+010d}]')\n",
    "\n",
    "# Using a Space Where a + Sign Would Appear in a Positive Value\n",
    "\n",
    "print(f'{27:d}\\n{27: d}\\n{-27: d}')\n",
    "\n",
    "# Grouping Digits\n",
    "\n",
    "print(f'{12345678:,d}')\n",
    "print(f'{123456.78:,.2f}')"
   ]
  },
  {
   "cell_type": "code",
   "execution_count": 27,
   "id": "b8899cd0-d45e-4c0a-952e-32781dc829cc",
   "metadata": {},
   "outputs": [
    {
     "name": "stdout",
     "output_type": "stream",
     "text": [
      "+10,240.47\n",
      " -3,210.95\n"
     ]
    }
   ],
   "source": [
    "# 8.2.3 Self-Check 2: Print the values 10240.473 and -3210.9521, each preceded by its sign, in 10-character fields with thousands separators, \n",
    "# their decimal points aligned vertically and two digits of precision.\n",
    "\n",
    "print(f'{10240.473:+10,.2f}\\n{-3210.9521:10,.2f}')"
   ]
  },
  {
   "cell_type": "code",
   "execution_count": 37,
   "id": "9dbf0a82-e497-457a-9827-4ef3fad1af2f",
   "metadata": {},
   "outputs": [
    {
     "name": "stdout",
     "output_type": "stream",
     "text": [
      "17.49\n",
      "Amanda Cyan\n",
      "Happy Happy Birthday\n",
      "Amanda Gray\n",
      "Gray Amanda\n",
      "Bond James Bond\n"
     ]
    }
   ],
   "source": [
    "# 8.2.4 String format Method\n",
    "\n",
    "print('{:.2f}'.format(17.489))\n",
    "\n",
    "# Multiple placeholders\n",
    "\n",
    "print('{} {}'.format('Amanda', 'Cyan'))\n",
    "\n",
    "# Referencing Arguments by Postition Number\n",
    "\n",
    "print('{0} {0} {1}'.format('Happy', 'Birthday'))\n",
    "\n",
    "# Referencing keyword Arguments\n",
    "\n",
    "print('{first} {last}'.format(first='Amanda', last='Gray'))\n",
    "print('{last} {first}'.format(first='Amanda', last='Gray'))\n",
    "print('{last} {first} {last}'.format(first='James', last='Bond'))"
   ]
  },
  {
   "cell_type": "code",
   "execution_count": 43,
   "id": "3a31f14c-a09d-4b3b-891a-0722eb8bd481",
   "metadata": {},
   "outputs": [
    {
     "name": "stdout",
     "output_type": "stream",
     "text": [
      ":-)\n",
      "[    Amanda]\n",
      "[  Amanda  ]\n",
      "[Amanda    ]\n",
      "+10,240.47\n",
      " -3,210.95\n"
     ]
    }
   ],
   "source": [
    "# 8.2.4 Self-Check 1: Use string method format to reimplement the IPython sessions in the Self Check exercises from Sections 8.2.1–8.2.3.\n",
    "\n",
    "print('{:c}{:c}{:c}'.format(58, 45, 41))\n",
    "print('[{0:>10}]\\n[{0:^10}]\\n[{0:<10}]'.format('Amanda'))\n",
    "print('{:+10,.2f}\\n{:+10,.2f}'.format(10240.473, -3210.9521))"
   ]
  },
  {
   "cell_type": "code",
   "execution_count": 46,
   "id": "11a97f7f-8a43-46ef-b185-82a8a46bf7ee",
   "metadata": {},
   "outputs": [
    {
     "name": "stdout",
     "output_type": "stream",
     "text": [
      "happy birthday\n",
      ">>>>>\n"
     ]
    }
   ],
   "source": [
    "# 8.3 Concatenating and Repeating Strings\n",
    "\n",
    "s1 = 'happy'\n",
    "\n",
    "s2 = 'birthday'\n",
    "\n",
    "s1 += ' ' + s2\n",
    "\n",
    "print(s1)\n",
    "\n",
    "symbol = '>'\n",
    "\n",
    "symbol *= 5\n",
    "\n",
    "print(symbol)\n"
   ]
  },
  {
   "cell_type": "code",
   "execution_count": 48,
   "id": "2cfe10da-e5a0-436a-9aa8-2f6b640049d1",
   "metadata": {},
   "outputs": [
    {
     "name": "stdout",
     "output_type": "stream",
     "text": [
      "***********\n",
      "Kyle Hudson\n",
      "***********\n"
     ]
    }
   ],
   "source": [
    "# 8.3 Self-Check 1: Use the += operator to concatenate your first and last name. Then use the *= operator to create a bar of asterisks with the same number of characters as \n",
    "# your full name and display the bar above and below your name.\n",
    "\n",
    "name = 'Kyle'\n",
    "\n",
    "name += ' ' + 'Hudson'\n",
    "\n",
    "bar = '*'\n",
    "\n",
    "bar *= len(name)\n",
    "\n",
    "print(f'{bar}\\n{name}\\n{bar}')\n",
    "\n"
   ]
  },
  {
   "cell_type": "code",
   "execution_count": 3,
   "id": "310ac651-ddff-446f-b6e8-3e258a38b55b",
   "metadata": {},
   "outputs": [
    {
     "name": "stdout",
     "output_type": "stream",
     "text": [
      "\t \n",
      " This is a test string. \t\t \n",
      "\n",
      "This is a test string.\n",
      "This is a test string. \t\t \n",
      "\n",
      "\t \n",
      " This is a test string.\n"
     ]
    }
   ],
   "source": [
    "# 8.4 Stripping whitespace from strings\n",
    "\n",
    "# Removing leading and Trailing Whitespace\n",
    "\n",
    "sentence = '\\t \\n This is a test string. \\t\\t \\n'\n",
    "\n",
    "print(sentence)\n",
    "print(sentence.strip())\n",
    "\n",
    "# Removing Leading Whitespace\n",
    "\n",
    "print(sentence.lstrip())\n",
    "\n",
    "# Removing Trailing Whitespace\n",
    "\n",
    "print(sentence.rstrip())"
   ]
  },
  {
   "cell_type": "code",
   "execution_count": 4,
   "id": "868fc4c7-66d2-419e-aecc-6e9faa59b47b",
   "metadata": {},
   "outputs": [
    {
     "name": "stdout",
     "output_type": "stream",
     "text": [
      "Margo Magenta\n",
      "Margo Magenta     \n",
      "       Margo Magenta\n"
     ]
    }
   ],
   "source": [
    "# 8.4 Self-Check 1: Use the methods in this section to strip the whitespace from the following string, which has \n",
    "# five spaces at the beginning and end of the string:\n",
    "\n",
    "name = '       Margo Magenta     '\n",
    "\n",
    "print(name.strip())\n",
    "print(name.lstrip())\n",
    "print(name.rstrip())"
   ]
  },
  {
   "cell_type": "code",
   "execution_count": 7,
   "id": "ee3b3346-8f9d-43a3-94e8-46bf824b6ecf",
   "metadata": {},
   "outputs": [
    {
     "name": "stdout",
     "output_type": "stream",
     "text": [
      "Happy birthday\n",
      "Strings: A Deeper Look\n"
     ]
    }
   ],
   "source": [
    "# 8.5 Changing Character Case\n",
    "\n",
    "# Capitalizing only a string's first character\n",
    "\n",
    "print('happy birthday'.capitalize())\n",
    "\n",
    "# Capitalizing the frist character of every word in a string\n",
    "\n",
    "print('strings: a deeper look'.title())"
   ]
  },
  {
   "cell_type": "code",
   "execution_count": 8,
   "id": "1add5c52-1709-4d42-aaeb-ce08b2e1fcda",
   "metadata": {},
   "outputs": [
    {
     "name": "stdout",
     "output_type": "stream",
     "text": [
      "Happy new year\n",
      "Happy New Year\n"
     ]
    }
   ],
   "source": [
    "# 8.5 Self-Check 1: Demonstrate the results of calling capitalize and title on the string 'happy new year'\n",
    "\n",
    "print('happy new year'.capitalize())\n",
    "print('happy new year'.title())"
   ]
  },
  {
   "cell_type": "code",
   "execution_count": 10,
   "id": "152805e0-0e28-4be2-a403-77f274dd50f1",
   "metadata": {},
   "outputs": [
    {
     "name": "stdout",
     "output_type": "stream",
     "text": [
      "A: 65; a: 97\n",
      "False\n",
      "True\n",
      "True\n",
      "True\n",
      "False\n",
      "False\n"
     ]
    }
   ],
   "source": [
    "# 8.6 Comparison Operators for Strings\n",
    "\n",
    "print(f'A: {ord(\"A\")}; a: {ord(\"a\")}')\n",
    "\n",
    "print('Orange' == 'orange')\n",
    "print('Orange' != 'orange')\n",
    "print('Orange' < 'orange')\n",
    "print('Orange' <= 'orange')\n",
    "print('Orange' > 'orange')\n",
    "print('Orange' >= 'orange')"
   ]
  },
  {
   "cell_type": "code",
   "execution_count": 19,
   "id": "38de031e-c5ab-48c0-92b3-61ab22fdaba9",
   "metadata": {},
   "outputs": [
    {
     "name": "stdout",
     "output_type": "stream",
     "text": [
      "2\n",
      "1\n",
      "1\n",
      "3\n",
      "16\n",
      "True\n",
      "False\n",
      "True\n",
      "True\n",
      "False\n",
      "True\n",
      "False\n",
      "True\n"
     ]
    }
   ],
   "source": [
    "# 8.7 Searching for substrings\n",
    "\n",
    "# Counting occurrences\n",
    "\n",
    "sentence = 'to be or not to be that is the question'\n",
    "\n",
    "print(sentence.count('to'))\n",
    "\n",
    "print(sentence.count('to', 12))\n",
    "\n",
    "print(sentence.count('that', 12, 25))\n",
    "\n",
    "# Locating a substring in a string\n",
    "\n",
    "print(sentence.index('be')) # first index the substring is found\n",
    "print(sentence.rindex('be')) # last index the substring is found\n",
    "\n",
    "# Determing whether a string contains a substring\n",
    "\n",
    "print('that' in sentence)\n",
    "print('THAT' in sentence)\n",
    "print('THAT' not in sentence)\n",
    "\n",
    "# Locating a substring at the beginning or end of a string\n",
    "\n",
    "print(sentence.startswith('to'))\n",
    "print(sentence.startswith('be'))\n",
    "print(sentence.endswith('question'))\n",
    "print(sentence.endswith('quest'))\n",
    "print(sentence.endswith('ion'))"
   ]
  },
  {
   "cell_type": "code",
   "execution_count": 20,
   "id": "b1822ba8-572e-4e6b-a82c-f4eac4de4192",
   "metadata": {},
   "outputs": [
    {
     "name": "stdout",
     "output_type": "stream",
     "text": [
      "to to that the "
     ]
    }
   ],
   "source": [
    "# 8.7 Self-Check 3: Create a loop that locates and displays every word that starts with 't' in the string 'to be or not to be that is the question'.\n",
    "\n",
    "for word in 'to be or not to be that is the question'.split():\n",
    "    if word.startswith('t'):\n",
    "        print(word, end=' ')\n"
   ]
  },
  {
   "cell_type": "code",
   "execution_count": 21,
   "id": "f1eedd51-9273-4363-9927-463e4d76ded6",
   "metadata": {},
   "outputs": [
    {
     "name": "stdout",
     "output_type": "stream",
     "text": [
      "1\t2\t3\t4\t5\n",
      "1,2,3,4,5\n"
     ]
    }
   ],
   "source": [
    "# 8.8 Replacing substrings\n",
    "\n",
    "values = '1\\t2\\t3\\t4\\t5'\n",
    "\n",
    "print(values)\n",
    "\n",
    "print(values.replace('\\t', ','))"
   ]
  },
  {
   "cell_type": "code",
   "execution_count": 24,
   "id": "35a47418-71ff-4792-b94f-6ef9baec88e6",
   "metadata": {},
   "outputs": [
    {
     "name": "stdout",
     "output_type": "stream",
     "text": [
      "1-->2-->3-->4-->5\n"
     ]
    }
   ],
   "source": [
    "# 8.8 Self-Check 1: Replace the spaces in the string '1 2 3 4 5' with ' --> '.\n",
    "\n",
    "bearcat = \"1 2 3 4 5\"\n",
    "\n",
    "print(bearcat.replace(' ', '-->'))"
   ]
  },
  {
   "cell_type": "code",
   "execution_count": 37,
   "id": "c6b89f7d-39d1-4cab-8326-873769d51f03",
   "metadata": {},
   "outputs": [
    {
     "name": "stdout",
     "output_type": "stream",
     "text": [
      "A, B, C, D\n",
      "['A', 'B', 'C', 'D']\n",
      "['A', 'B', 'C, D']\n",
      "['A', 'B', 'C', 'D']\n",
      "A, B, C, D\n",
      "0,1,2,3,4,5,6,7,8,9\n",
      "('Amanda', ': ', '89, 97, 92')\n",
      "table_of_contents.html\n",
      "http://www.deitel.com/books/PyCDS\n",
      "This is line 1\n",
      "This is line 2\n",
      "This is line 3\n",
      "['This is line 1', 'This is line 2', 'This is line 3']\n",
      "['This is line 1\\n', 'This is line 2\\n', 'This is line 3']\n"
     ]
    }
   ],
   "source": [
    "# 8.9 splitting and joining strings\n",
    "\n",
    "# Splitting strings\n",
    "\n",
    "letters = 'A, B, C, D'\n",
    "\n",
    "print(letters)\n",
    "print(letters.split(', '))\n",
    "print(letters.split(', ', 2)) # second argument is max number of splits\n",
    "\n",
    "# Joining strings\n",
    "\n",
    "letters_list = ['A', 'B', 'C', 'D']\n",
    "\n",
    "print(letters_list)\n",
    "print(', '.join(letters_list))\n",
    "\n",
    "print(','.join([str(i) for i in range(10)]))\n",
    "\n",
    "# String methods partition and rpartition\n",
    "\n",
    "print('Amanda: 89, 97, 92'.partition(': '))\n",
    "\n",
    "url = 'http://www.deitel.com/books/PyCDS/table_of_contents.html'\n",
    "\n",
    "rest_of_url, separator, document = url.rpartition('/')  # rpartition looks for the separator from the end of the string\n",
    "\n",
    "print(document)\n",
    "print(rest_of_url)\n",
    "\n",
    "# String Method splitlines\n",
    "\n",
    "lines = \"\"\"This is line 1\n",
    "This is line 2\n",
    "This is line 3\"\"\"\n",
    "\n",
    "print(lines)\n",
    "print(lines.splitlines())\n",
    "print(lines.splitlines(True))"
   ]
  },
  {
   "cell_type": "code",
   "execution_count": 43,
   "id": "21942963-95db-4d67-8ef5-2c77c7a8a427",
   "metadata": {},
   "outputs": [
    {
     "name": "stdout",
     "output_type": "stream",
     "text": [
      "White, Pamela\n",
      "www.deitel.com\n",
      "books/PyCDS\n"
     ]
    }
   ],
   "source": [
    "# 8.9 Self-check 2: Use split and join in one statement to reformat the string 'Pamela White' into the string 'White, Pamela'\n",
    "\n",
    "print(', '.join(reversed('Pamela White'.split())))\n",
    "\n",
    "# Self-check 3: Use partition and rpartition to extract from the URL string: 'http://www.deitel.com/books/PyCDS/table_of_contents.html'\n",
    "# the substrings'www.deitel.com' and 'books/PyCDS'.\n",
    "\n",
    "url = 'http://www.deitel.com/books/PyCDS/table_of_contents.html'\n",
    "\n",
    "protocol, separator, rest_of_url = url.partition('://')\n",
    "\n",
    "host, separator, document_path = rest_of_url.partition('/')\n",
    "\n",
    "print(host)\n",
    "\n",
    "path, separator, document = document_path.rpartition('/')\n",
    "\n",
    "print(path)"
   ]
  },
  {
   "cell_type": "code",
   "execution_count": 46,
   "id": "3946710a-3865-4c11-9941-510404b49b0f",
   "metadata": {},
   "outputs": [
    {
     "name": "stdout",
     "output_type": "stream",
     "text": [
      "False\n",
      "True\n",
      "True\n",
      "False\n"
     ]
    }
   ],
   "source": [
    "# 8.10 Characters and Character-Testing Methods\n",
    "\n",
    "print('-27'.isdigit())\n",
    "print('27'.isdigit())\n",
    "\n",
    "print('A9876'.isalnum())\n",
    "print('123 Main Street'.isalnum())"
   ]
  },
  {
   "cell_type": "code",
   "execution_count": 48,
   "id": "51277f92-19d2-4993-acc9-a18772438053",
   "metadata": {},
   "outputs": [
    {
     "name": "stdout",
     "output_type": "stream",
     "text": [
      "C:\\MyFolder\\MySubFolder\\MyFile.txt\n",
      "C:\\MyFolder\\MySubFolder\\MyFile.txt\n"
     ]
    }
   ],
   "source": [
    "# 8.11 Raw Strings\n",
    "\n",
    "file_path = 'C:\\\\MyFolder\\\\MySubFolder\\\\MyFile.txt'\n",
    "\n",
    "print(file_path)\n",
    "\n",
    "file_path = r'C:\\MyFolder\\MySubFolder\\MyFile.txt'\n",
    "\n",
    "print(file_path)"
   ]
  },
  {
   "cell_type": "code",
   "execution_count": 63,
   "id": "d33ee9c9-751f-4ede-b55c-c66a76669dfc",
   "metadata": {},
   "outputs": [
    {
     "name": "stdout",
     "output_type": "stream",
     "text": [
      "Match\n",
      "No Match\n",
      "Valid\n",
      "Invalid\n",
      "Valid\n",
      "Invalid\n",
      "Match\n",
      "No Match\n",
      "Valid\n",
      "Invalid\n",
      "Match\n",
      "Match\n",
      "No Match\n",
      "Match\n",
      "Match\n",
      "No match\n",
      "Match\n",
      "Match\n",
      "No match\n",
      "No match\n"
     ]
    }
   ],
   "source": [
    "# 8.12.1 Introduction to Regular Expressions\n",
    "\n",
    "# re Module and Function fullmatch\n",
    "\n",
    "import re\n",
    "\n",
    "pattern = '02215'\n",
    "\n",
    "print('Match' if re.fullmatch(pattern, '02215') else 'No Match')\n",
    "print('Match' if re.fullmatch(pattern, '51220') else 'No Match')\n",
    "\n",
    "# Metacharacters, Character Classes and Quantifiers\n",
    "\n",
    "print('Valid' if re.fullmatch(r'\\d{5}', '02215') else 'Invalid')\n",
    "print('Valid' if re.fullmatch(r'd{5}', '9876') else 'Invalid')\n",
    "\n",
    "# Custom Character Classes\n",
    "\n",
    "print('Valid' if re.fullmatch('[A-Z][a-z]*', 'Jonah') else 'Invalid')\n",
    "print('Valid' if re.fullmatch('[A-Z][a-z]*', 'eva') else 'Invalid')\n",
    "\n",
    "print('Match' if re.fullmatch('[^a-z]', 'A') else 'No Match')  # ^ = not\n",
    "print('Match' if re.fullmatch('[^a-z]', 'a') else 'No Match')\n",
    "\n",
    "# * vs. + Quantifier\n",
    "\n",
    "print('Valid' if re.fullmatch('[A-Z][a-z]+', 'Wally') else 'Invalid')\n",
    "print('Valid' if re.fullmatch('[A-Z][a-z]+', 'E') else 'Invalid')\n",
    "\n",
    "# Other Quantifiers\n",
    "\n",
    "# ? - zero or only one occurrence\n",
    "print('Match' if re.fullmatch('labell?ed', 'labelled') else 'No Match')\n",
    "print('Match' if re.fullmatch('labell?ed', 'labeled') else 'No Match')\n",
    "print('Match' if re.fullmatch('labell?ed', 'labellled') else 'No Match')\n",
    "\n",
    "# {n.} - n ocurrences\n",
    "print('Match' if re.fullmatch(r'\\d{3,}', '123') else 'No match')\n",
    "print('Match' if re.fullmatch(r'\\d{3,}', '1234567890') else 'No match')\n",
    "print('Match' if re.fullmatch(r'\\d{3,}', '12') else 'No match')\n",
    "\n",
    "# {n, m} - n to m inclusive occurrences\n",
    "print('Match' if re.fullmatch(r'\\d{3,6}', '123') else 'No match')\n",
    "print('Match' if re.fullmatch(r'\\d{3,6}', '123456') else 'No match')\n",
    "print('Match' if re.fullmatch(r'\\d{3,6}', '1234567') else 'No match')\n",
    "print('Match' if re.fullmatch(r'\\d{3,6}', '12') else 'No match')"
   ]
  },
  {
   "cell_type": "code",
   "execution_count": 66,
   "id": "c396cec1-6f18-472b-846a-dfabe1a73ddd",
   "metadata": {},
   "outputs": [
    {
     "name": "stdout",
     "output_type": "stream",
     "text": [
      "Match\n",
      "No Match\n"
     ]
    }
   ],
   "source": [
    "# 8.12.1 Self-check 4: Create and test a regular expression that matches a street address consisting of a number with one or \n",
    "# more digits followed by two words of one or more characters each. The tokens should be separated by one space each, as in 123 Main Street.\n",
    "\n",
    "import re\n",
    "\n",
    "street = r'\\d+ [A-Z][a-z]* [A-Z][a-z]*'\n",
    "\n",
    "print('Match' if re.fullmatch(street, '123 Main Street') else 'No Match')\n",
    "print('Match' if re.fullmatch(street, 'Main Street') else 'No Match')"
   ]
  },
  {
   "cell_type": "code",
   "execution_count": 71,
   "id": "18a69ad4-caf2-4554-ac89-0062e4e21f94",
   "metadata": {},
   "outputs": [
    {
     "name": "stdout",
     "output_type": "stream",
     "text": [
      "1, 2, 3, 4\n",
      "1, 2, 3\t4\n",
      "['1', '2', '3', '4', '5', '6', '7', '8']\n",
      "['1', '2', '3', '4,    5,6,7,8']\n"
     ]
    }
   ],
   "source": [
    "# 8.12.2 Replacing Substrings and Splitting Strings\n",
    "\n",
    "# Function sub - replacing patterns\n",
    "\n",
    "import re\n",
    "\n",
    "print(re.sub(r'\\t', ', ', '1\\t2\\t3\\t4'))\n",
    "print(re.sub(r'\\t', ', ', '1\\t2\\t3\\t4', count=2))\n",
    "\n",
    "# Function split\n",
    "\n",
    "print(re.split(r',\\s*', '1,  2,  3,4,    5,6,7,8'))\n",
    "print(re.split(r',\\s*', '1,  2,  3,4,    5,6,7,8', maxsplit=3))"
   ]
  },
  {
   "cell_type": "code",
   "execution_count": 75,
   "id": "15ceb4bb-e398-4f61-a2ea-29f5d9d7dd1b",
   "metadata": {},
   "outputs": [
    {
     "name": "stdout",
     "output_type": "stream",
     "text": [
      "A, B, C, D\n",
      "['123', 'Main', 'Street']\n"
     ]
    }
   ],
   "source": [
    "# 8.12.2 Self-check 1: Replace each occurrence of one or more adjacent tab characters in the following string with a comma and a space: 'A\\tB\\t\\tC\\t\\t\\tD'\n",
    "\n",
    "import re\n",
    "\n",
    "print(re.sub(r'\\t+', ', ', 'A\\tB\\t\\tC\\t\\t\\tD'))\n",
    "\n",
    "# Self-Check 2: Use a regular expression and the split function to split the following string at one or more adjacent $ characters. '123$Main$$Street'\n",
    "\n",
    "print(re.split('\\$+', '123$Main$$Street'))"
   ]
  },
  {
   "cell_type": "code",
   "execution_count": 100,
   "id": "cf2701c3-ecd9-4600-9213-c537961b9fcb",
   "metadata": {},
   "outputs": [
    {
     "name": "stdout",
     "output_type": "stream",
     "text": [
      "Python\n",
      "not found\n",
      "SAM\n",
      "Python\n",
      "not found\n",
      "not found\n",
      "fun\n",
      "['555-555-1234', '555-555-4321']\n",
      "555-555-1234\n",
      "555-555-4321\n",
      "('Charlie Cyan', 'demo1@deitel.com')\n",
      "Charlie Cyan, email: demo1@deitel.com\n",
      "Charlie Cyan\n",
      "demo1@deitel.com\n"
     ]
    }
   ],
   "source": [
    "# 8.12.3 Other Search Functions: Accessing Matches\n",
    "\n",
    "# Function search - Finding the first match anywhere in a string\n",
    "\n",
    "import re\n",
    "\n",
    "result = re.search('Python', 'Python is fun')\n",
    "\n",
    "print(result.group() if result else 'not found')\n",
    "\n",
    "result2 = re.search('fun!', 'Pthon is fun')\n",
    "\n",
    "print(result2.group() if result2 else 'not found')\n",
    "\n",
    "# Ignoring case with the optional flags keyword argument\n",
    "\n",
    "result3 = re.search('Sam', 'SAM WHITE', flags=re.IGNORECASE)\n",
    "\n",
    "print(result3.group() if result3 else 'not found')\n",
    "\n",
    "# Metacharacters that restrict matches to the beginning or end of a string\n",
    "\n",
    "result = re.search('^Python', 'Python is fun')  # ^ matches only at the beginning of the string\n",
    "\n",
    "print(result.group() if result else 'not found')\n",
    "\n",
    "result = re.search('^fun', 'Python is fun')\n",
    "\n",
    "print(result.group() if result else 'not found')\n",
    "\n",
    "result = re.search('Python%', 'Python is fun')  # $ matches only at the end of the string\n",
    "\n",
    "print(result.group() if result else 'not found')\n",
    "\n",
    "result = re.search('fun$', 'Python is fun')\n",
    "\n",
    "print(result.group() if result else 'not found')\n",
    "\n",
    "# Function findall and finditer - Finding all matches in a string\n",
    "\n",
    "contact = 'Wally White, Home: 555-555-1234, Work: 555-555-4321'\n",
    "\n",
    "print(re.findall(r'\\d{3}-\\d{3}-\\d{4}', contact))\n",
    "\n",
    "for phone in re.finditer(r'\\d{3}-\\d{3}-\\d{4}', contact):\n",
    "    print(phone.group())\n",
    "    \n",
    "# Capturing substrings in a match\n",
    "\n",
    "text = 'Charlie Cyan, email: demo1@deitel.com'\n",
    "\n",
    "pattern = r'([A-Z][a-z]+ [A-Z][a-z]+), email: (\\w+@\\w+\\.\\w{3})'\n",
    "\n",
    "result = re.search(pattern, text)\n",
    "\n",
    "print(result.groups())  # produces a tuple\n",
    "print(result.group())  # produces a string\n",
    "\n",
    "print(result.group(1))\n",
    "print(result.group(2))"
   ]
  },
  {
   "cell_type": "code",
   "execution_count": 101,
   "id": "031ae965-7e44-4326-b976-56a26febaf17",
   "metadata": {},
   "outputs": [
    {
     "name": "stdout",
     "output_type": "stream",
     "text": [
      "('10', '+', '5')\n",
      "10\n",
      "+\n",
      "5\n"
     ]
    }
   ],
   "source": [
    "# 8.12.3 Self-Check 2: Assume you have a string representing an addition problem such as '10 + 5'\n",
    "# Use a regular expression to break the string into three groups representing the two operands and the operator, then display the groups.\n",
    "\n",
    "import re\n",
    "\n",
    "result = re.search(r'(\\d+) ([-+*?]) (\\d+)', '10 + 5')\n",
    "\n",
    "print(result.groups())\n",
    "print(result.group(1))\n",
    "print(result.group(2))\n",
    "print(result.group(3))"
   ]
  },
  {
   "cell_type": "code",
   "execution_count": 112,
   "id": "a877d1ea-841e-4dad-bcef-aae60bca3cb4",
   "metadata": {},
   "outputs": [
    {
     "name": "stdout",
     "output_type": "stream",
     "text": [
      "Boston    02215\n",
      "Miami      3310\n",
      "dtype: object\n",
      "Boston     True\n",
      "Miami     False\n",
      "dtype: bool\n",
      "0    Boston, MA 02215\n",
      "1     Miami, FL 33101\n",
      "dtype: object\n",
      "0    True\n",
      "1    True\n",
      "dtype: bool\n",
      "0    False\n",
      "1    False\n",
      "dtype: bool\n",
      "         Name             Email       Phone\n",
      "0  Mike Green  demo1@deitel.com  5555555555\n",
      "1   Sue Brown  demo2@deitel.com  5555551234\n",
      "0    555-555-5555\n",
      "1    555-555-1234\n",
      "Name: Phone, dtype: object\n",
      "         Name             Email         Phone\n",
      "0  Mike Green  demo1@deitel.com  555-555-5555\n",
      "1   Sue Brown  demo2@deitel.com  555-555-1234\n"
     ]
    }
   ],
   "source": [
    "# 8.13 Intro to Data Science: Pandas, Regular Expressions and Data Munging\n",
    "\n",
    "# Data validation\n",
    "\n",
    "import pandas as pd\n",
    "\n",
    "zips = pd.Series({'Boston': '02215', 'Miami': '3310'})\n",
    "\n",
    "print(zips)\n",
    "\n",
    "print(zips.str.match(r'\\d{5}'))\n",
    "\n",
    "cities = pd.Series(['Boston, MA 02215', 'Miami, FL 33101'])\n",
    "\n",
    "print(cities)\n",
    "\n",
    "print(cities.str.contains(r' [A-Z]{2} '))\n",
    "print(cities.str.match(r' [A-Z]{2} '))\n",
    "\n",
    "contacts = [['Mike Green', 'demo1@deitel.com', '5555555555'], ['Sue Brown', 'demo2@deitel.com', '5555551234']]\n",
    "\n",
    "contactsdf = pd.DataFrame(contacts, columns=['Name', 'Email', 'Phone'])\n",
    "\n",
    "print(contactsdf)\n",
    "\n",
    "import re\n",
    "\n",
    "def get_formatted_phone(value):\n",
    "    result = re.fullmatch(r'(\\d{3})(\\d{3})(\\d{4})', value)\n",
    "    return '-'.join(result.groups()) if result else value\n",
    "\n",
    "formatted_phone = contactsdf['Phone'].map(get_formatted_phone)\n",
    "\n",
    "print(formatted_phone)\n",
    "\n",
    "contactsdf['Phone'] = formatted_phone\n",
    "\n",
    "print(contactsdf)"
   ]
  },
  {
   "cell_type": "code",
   "execution_count": 114,
   "id": "22ec5f2c-0ce2-407d-aad0-fcc95d12b86f",
   "metadata": {},
   "outputs": [
    {
     "name": "stdout",
     "output_type": "stream",
     "text": [
      "         Name             Email           Phone\n",
      "0  Mike Green  demo1@deitel.com  (555) 555-5555\n",
      "1   Sue Brown  demo2@deitel.com  (555) 555-1234\n"
     ]
    }
   ],
   "source": [
    "# 8.13 Self-check 2: Let’s assume that an application requires U.S. phone numbers in the format (###) ###-####. Modify the get_formatted_phone function \n",
    "# in snippet [13] to return the phone number in this new format. Then recreate the DataFrame from snippets [9] and [10] and use the updated get_formatted_phone \n",
    "# function to munge the data.\n",
    "\n",
    "import pandas as pd\n",
    "\n",
    "import re\n",
    "\n",
    "contacts = [['Mike Green', 'demo1@deitel.com', '5555555555'], ['Sue Brown', 'demo2@deitel.com', '5555551234']]\n",
    "                                                               \n",
    "contactsdf = pd.DataFrame(contacts, columns=['Name', 'Email', 'Phone'])\n",
    "                                                               \n",
    "def get_formatted_phone(value):\n",
    "    result = re.fullmatch(r'(\\d{3})(\\d{3})(\\d{4})', value)\n",
    "    if result:\n",
    "        part1, part2, part3 = result.groups()\n",
    "        return '(' + part1 + ') ' + part2 + '-' + part3\n",
    "    else:\n",
    "        return value\n",
    "    \n",
    "contactsdf['Phone'] = contactsdf['Phone'].map(get_formatted_phone)\n",
    "\n",
    "print(contactsdf)"
   ]
  }
 ],
 "metadata": {
  "kernelspec": {
   "display_name": "Python 3 (ipykernel)",
   "language": "python",
   "name": "python3"
  },
  "language_info": {
   "codemirror_mode": {
    "name": "ipython",
    "version": 3
   },
   "file_extension": ".py",
   "mimetype": "text/x-python",
   "name": "python",
   "nbconvert_exporter": "python",
   "pygments_lexer": "ipython3",
   "version": "3.8.12"
  }
 },
 "nbformat": 4,
 "nbformat_minor": 5
}
