{
 "cells": [
  {
   "cell_type": "code",
   "execution_count": 11,
   "id": "e404c1ed-ba72-4380-91b7-a2e162f8af54",
   "metadata": {},
   "outputs": [
    {
     "name": "stdout",
     "output_type": "stream",
     "text": [
      "0     87\n",
      "1    100\n",
      "2     94\n",
      "dtype: int64\n",
      "87\n",
      "3\n",
      "93.66666666666667\n",
      "87\n",
      "100\n",
      "6.506407098647712\n",
      "count      3.000000\n",
      "mean      93.666667\n",
      "std        6.506407\n",
      "min       87.000000\n",
      "25%       90.500000\n",
      "50%       94.000000\n",
      "75%       97.000000\n",
      "max      100.000000\n",
      "dtype: float64\n",
      "Wally     87\n",
      "Eva      100\n",
      "Sam       94\n",
      "dtype: int64\n",
      "Eva's grade is 100\n",
      "Wally's grade is 87\n",
      "[ 87 100  94]\n"
     ]
    }
   ],
   "source": [
    "# Module 5 Project Part 1\n",
    "\n",
    "# Kyle Hudson\n",
    "\n",
    "# Follow the instructions in 7.14 to import the pandas module and create a pandas Series named grades from a list of integers (exam scores)\n",
    "\n",
    "import pandas as pd\n",
    "\n",
    "grades = pd.Series([87, 100, 94])\n",
    "\n",
    "print(grades)\n",
    "\n",
    "# Get the value of the first grade with grades[0].\n",
    "\n",
    "print(grades[0])\n",
    "\n",
    "# Call the built in Series functions: count(), mean(), min(), max(), std(), and describe().\n",
    "\n",
    "print(grades.count())\n",
    "print(grades.mean())\n",
    "print(grades.min())\n",
    "print(grades.max())\n",
    "print(grades.std())\n",
    "print(grades.describe())\n",
    "\n",
    "# Follow the instructions in the \"Dictionary Initializers' subsection to modify your code to initialize grades with a dictionary \n",
    "# (a set of key-value pairs instead) - we'll use the student name as the key  and their exam score as the value. \n",
    "\n",
    "grades = pd.Series({'Wally': 87, 'Eva': 100, 'Sam': 94})\n",
    "\n",
    "print(grades)\n",
    "\n",
    "# Get Eva's score by calling grades['Eva']\n",
    "\n",
    "print(f\"Eva's grade is\", grades['Eva'])\n",
    "\n",
    "# Get Wally's score using the easier dot notation: grades.Wally\n",
    "\n",
    "print(f\"Wally's grade is\", grades.Wally)\n",
    "\n",
    "# Use the Series values attribute to view the array of values\n",
    "\n",
    "print(grades.values)"
   ]
  },
  {
   "cell_type": "code",
   "execution_count": null,
   "id": "bafa7efd-1ecc-42c5-8095-90e30175f2dc",
   "metadata": {},
   "outputs": [],
   "source": []
  }
 ],
 "metadata": {
  "kernelspec": {
   "display_name": "Python 3 (ipykernel)",
   "language": "python",
   "name": "python3"
  },
  "language_info": {
   "codemirror_mode": {
    "name": "ipython",
    "version": 3
   },
   "file_extension": ".py",
   "mimetype": "text/x-python",
   "name": "python",
   "nbconvert_exporter": "python",
   "pygments_lexer": "ipython3",
   "version": "3.8.12"
  }
 },
 "nbformat": 4,
 "nbformat_minor": 5
}
